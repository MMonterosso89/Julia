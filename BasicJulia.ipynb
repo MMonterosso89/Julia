{
  "cells": [
    {
      "cell_type": "code",
      "source": [
        "println(\"I'm stoked to learn Julia!\")"
      ],
      "outputs": [
        {
          "output_type": "stream",
          "name": "stdout",
          "text": [
            "I'm stoked to learn Julia!\n"
          ]
        }
      ],
      "execution_count": 9,
      "metadata": {
        "collapsed": true,
        "jupyter": {
          "source_hidden": false,
          "outputs_hidden": false
        },
        "nteract": {
          "transient": {
            "deleting": false
          }
        },
        "execution": {
          "iopub.status.busy": "2020-10-07T19:32:50.836Z",
          "iopub.execute_input": "2020-10-07T19:32:50.839Z",
          "iopub.status.idle": "2020-10-07T19:32:50.845Z"
        }
      }
    },
    {
      "cell_type": "code",
      "source": [
        "123\n",
        "456"
      ],
      "outputs": [
        {
          "output_type": "execute_result",
          "execution_count": 8,
          "data": {
            "text/plain": "456"
          },
          "metadata": {}
        }
      ],
      "execution_count": 8,
      "metadata": {
        "collapsed": true,
        "jupyter": {
          "source_hidden": false,
          "outputs_hidden": false
        },
        "nteract": {
          "transient": {
            "deleting": false
          }
        },
        "execution": {
          "iopub.status.busy": "2020-10-07T19:32:49.659Z",
          "iopub.execute_input": "2020-10-07T19:32:49.663Z",
          "iopub.status.idle": "2020-10-07T19:32:49.729Z"
        }
      }
    },
    {
      "cell_type": "code",
      "source": [
        "#semicolon supressed final line std output\n",
        "123\n",
        "456;"
      ],
      "outputs": [],
      "execution_count": 7,
      "metadata": {
        "collapsed": true,
        "jupyter": {
          "source_hidden": false,
          "outputs_hidden": false
        },
        "nteract": {
          "transient": {
            "deleting": false
          }
        },
        "execution": {
          "iopub.status.busy": "2020-10-07T19:32:47.779Z",
          "iopub.execute_input": "2020-10-07T19:32:47.782Z",
          "iopub.status.idle": "2020-10-07T19:32:47.787Z"
        }
      }
    },
    {
      "cell_type": "code",
      "source": [
        "#=\n",
        "\n",
        "for multiline comments, das cool\n",
        "\n",
        "=#"
      ],
      "outputs": [],
      "execution_count": null,
      "metadata": {
        "collapsed": true,
        "jupyter": {
          "source_hidden": false,
          "outputs_hidden": false
        },
        "nteract": {
          "transient": {
            "deleting": false
          }
        }
      }
    },
    {
      "cell_type": "code",
      "source": [
        "string = \"I am string\"\n",
        "string2 = \"\"\" This string can have \"quotes\" and such \"\"\""
      ],
      "outputs": [
        {
          "output_type": "execute_result",
          "execution_count": 10,
          "data": {
            "text/plain": "\" This string can have \\\"quotes\\\" and such \""
          },
          "metadata": {}
        }
      ],
      "execution_count": 10,
      "metadata": {
        "collapsed": true,
        "jupyter": {
          "source_hidden": false,
          "outputs_hidden": false
        },
        "nteract": {
          "transient": {
            "deleting": false
          }
        },
        "execution": {
          "iopub.status.busy": "2020-10-07T19:47:10.621Z",
          "iopub.execute_input": "2020-10-07T19:47:10.626Z",
          "iopub.status.idle": "2020-10-07T19:47:10.813Z"
        }
      }
    },
    {
      "cell_type": "code",
      "source": [
        "#glue like capabilies innately ready\n",
        "\n",
        "a = 5\n",
        "b = 6\n",
        "\n",
        "math_string = \"this string can do math $(a+b)!\"\n",
        "\n",
        "\n"
      ],
      "outputs": [
        {
          "output_type": "execute_result",
          "execution_count": 13,
          "data": {
            "text/plain": "\"this string can do math 11!\""
          },
          "metadata": {}
        }
      ],
      "execution_count": 13,
      "metadata": {
        "collapsed": true,
        "jupyter": {
          "source_hidden": false,
          "outputs_hidden": false
        },
        "nteract": {
          "transient": {
            "deleting": false
          }
        },
        "execution": {
          "iopub.status.busy": "2020-10-07T19:48:46.037Z",
          "iopub.execute_input": "2020-10-07T19:48:46.043Z",
          "iopub.status.idle": "2020-10-07T19:48:46.052Z"
        }
      }
    },
    {
      "cell_type": "code",
      "source": [
        "##concat with string() - it's basically paste() from R?\n",
        "#string(\"me \", \"and me\")\n",
        "\n",
        "#string function does not seem to work as taught, deprecated?\n",
        "\n",
        "#can mult to concat, that's super weird but ok\n",
        "\"testing\"*\"123\"\n",
        "\n",
        "what = \"is this \"\n",
        "\n",
        "working = \"thing on\"\n",
        "\n",
        "\n",
        "#Can link as well with $, all enclosed in quotes\n",
        "\"$what$working\""
      ],
      "outputs": [
        {
          "output_type": "execute_result",
          "execution_count": 1,
          "data": {
            "text/plain": "\"is this thing on\""
          },
          "metadata": {}
        }
      ],
      "execution_count": 1,
      "metadata": {
        "collapsed": true,
        "jupyter": {
          "source_hidden": false,
          "outputs_hidden": false
        },
        "nteract": {
          "transient": {
            "deleting": false
          }
        },
        "execution": {
          "iopub.status.busy": "2020-10-07T20:09:36.498Z",
          "iopub.execute_input": "2020-10-07T20:09:36.858Z",
          "iopub.status.idle": "2020-10-07T20:09:37.339Z"
        }
      }
    },
    {
      "cell_type": "code",
      "source": [
        "#Data Structs\n",
        "\n",
        "\n",
        "#Dictionary\n",
        "\n",
        "fone_booky = Dict(\"me\" => \"513-375-6348\", \"not me\" => \"513-555-555\");\n",
        "\n",
        "fone_booky\n",
        "\n",
        "#add entries with \n",
        "\n",
        "fone_booky[\"new entry\"] = \"513-999-9999\"\n",
        "\n",
        "fone_booky\n",
        "\n",
        "#Same synatax for grabbing entries (scan the assignement)\n",
        "fone_booky[\"new entry\"]\n",
        "\n",
        "\n",
        "#pop!() functrion returns value AND removed it from dictionary - #that's cool\n",
        "\n",
        "pop!(fone_booky,\"me\")\n",
        "\n",
        "fone_booky\n",
        "\n",
        "#dicts not ordered, tuples and arrays are\n",
        "\n",
        "\n",
        "#Tuples\n",
        "\n",
        "animals = (\"dog\", \"elephant\", \"octopus\")\n",
        "\n",
        "\n",
        "#arrays mutable and ordered\n",
        "\n",
        "friends = [\"Ed\", \"Tyler\", \"Gabe\", \"Jeff\"]\n",
        "\n",
        "friends[3]\n",
        "\n",
        "#push() function add to end or array - pop function works here as #well\n",
        "\n",
        "push!(friends,\"Cappa\")\n",
        "\n",
        "friends\n",
        "\n",
        "rando = rand(5,5,5,5) #TESSARACT\n",
        "\n",
        "\n",
        "\n"
      ],
      "outputs": [
        {
          "output_type": "execute_result",
          "execution_count": 20,
          "data": {
            "text/plain": "5×5×5×5 Array{Float64,4}:\n[:, :, 1, 1] =\n 0.308964  0.0821372  0.945254  0.495738  0.111324\n 0.770204  0.428504   0.488649  0.956245  0.590555\n 0.280791  0.963087   0.978534  0.23601   0.678308\n 0.254155  0.790815   0.206166  0.503182  0.928308\n 0.421206  0.618976   0.176833  0.807504  0.279361\n\n[:, :, 2, 1] =\n 0.764999   0.613228  0.974249  0.218954  0.862646\n 0.310546   0.446798  0.235068  0.336164  0.75249\n 0.0449033  0.955618  0.741041  0.850954  0.308019\n 0.0540213  0.149125  0.306158  0.650636  0.834283\n 0.228764   0.313429  0.4673    0.737656  0.931873\n\n[:, :, 3, 1] =\n 0.523925  0.946402   0.489218  0.167094   0.0399384\n 0.685005  0.153523   0.884058  0.0446771  0.457626\n 0.187106  0.268503   0.253128  0.998669   0.1217\n 0.542927  0.0288505  0.756045  0.690079   0.993284\n 0.66075   0.625861   0.53761   0.568272   0.59727\n\n[:, :, 4, 1] =\n 0.448752  0.231262  0.437456  0.836246   0.769486\n 0.505991  0.263565  0.998175  0.431825   0.493198\n 0.771012  0.6457    0.549312  0.0163604  0.847128\n 0.666237  0.896462  0.562617  0.819834   0.970179\n 0.804689  0.198627  0.564096  0.719164   0.0278677\n\n[:, :, 5, 1] =\n 0.1697    0.627686   0.594076   0.595998  0.743412\n 0.296003  0.186858   0.783652   0.744221  0.32986\n 0.765089  0.334631   0.0357427  0.960086  0.0367168\n 0.891734  0.0938807  0.1982     0.543264  0.315909\n 0.725619  0.450281   0.692643   0.124665  0.782033\n\n[:, :, 1, 2] =\n 0.888642  0.306382  0.401055  0.940293  0.687172\n 0.112049  0.707909  0.673633  0.485174  0.952057\n 0.341728  0.686626  0.826403  0.520943  0.622863\n 0.751252  0.547207  0.716183  0.170786  0.843448\n 0.862911  0.929642  0.855977  0.35361   0.182185\n\n[:, :, 2, 2] =\n 0.88188    0.349308   0.148122  0.487186  0.698672\n 0.809104   0.607973   0.42413   0.370367  0.356711\n 0.525955   0.806431   0.257629  0.22751   0.507963\n 0.0869277  0.530625   0.516268  0.632289  0.516178\n 0.982653   0.0159832  0.136624  0.307179  0.776375\n\n[:, :, 3, 2] =\n 0.543406  0.4174     0.755247   0.0159795  0.0360155\n 0.653149  0.0141124  0.474321   0.246413   0.140453\n 0.765301  0.789491   0.519863   0.562851   0.354952\n 0.363557  0.220811   0.0175185  0.200553   0.38919\n 0.226819  0.64401    0.0975837  0.719003   0.120212\n\n[:, :, 4, 2] =\n 0.684246  0.885175  0.376307   0.482974   0.444323\n 0.54181   0.865835  0.0764178  0.11625    0.067987\n 0.318931  0.544234  0.843207   0.0507579  0.45213\n 0.257226  0.40149   0.945492   0.974833   0.747575\n 0.869519  0.101318  0.855016   0.872897   0.433248\n\n[:, :, 5, 2] =\n 0.761841  0.123487  0.0896437  0.140048  0.12621\n 0.800941  0.187109  0.672801   0.953166  0.439977\n 0.100182  0.423716  0.959742   0.179329  0.146712\n 0.702535  0.496338  0.10483    0.276185  0.0967648\n 0.383173  0.330261  0.846849   0.97301   0.803378\n\n[:, :, 1, 3] =\n 0.46919   0.226178  0.906977  0.787048  0.332802\n 0.399452  0.392118  0.813375  0.970107  0.144941\n 0.547062  0.50504   0.783743  0.312116  0.636559\n 0.396646  0.432111  0.226191  0.305736  0.0828421\n 0.315613  0.314778  0.928371  0.537507  0.69573\n\n[:, :, 2, 3] =\n 0.106618  0.769589  0.164717  0.555891  0.432086\n 0.606331  0.729367  0.119863  0.495512  0.885037\n 0.48493   0.336714  0.852574  0.607857  0.747337\n 0.536079  0.949656  0.558257  0.736289  0.145988\n 0.468543  0.129864  0.382215  0.142423  0.0851539\n\n[:, :, 3, 3] =\n 0.241857  0.0155558  0.998085  0.156733  0.0228427\n 0.475168  0.215378   0.81576   0.195007  0.822367\n 0.703146  0.569269   0.203952  0.161723  0.644466\n 0.186013  0.197805   0.530913  0.807553  0.471423\n 0.333228  0.608619   0.907828  0.456554  0.935979\n\n[:, :, 4, 3] =\n 0.955935  0.230497   0.218955    0.703849  0.613708\n 0.785732  0.581673   0.383998    0.415168  0.821681\n 0.292454  0.0693404  0.00798997  0.388026  0.982797\n 0.612276  0.421865   0.105464    0.915318  0.147737\n 0.982757  0.978731   0.215904    0.240447  0.376472\n\n[:, :, 5, 3] =\n 0.480042   0.0915567  0.575342   0.941749   0.542244\n 0.0235496  0.713757   0.0530544  0.0636926  0.192594\n 0.267417   0.256892   0.953188   0.459897   0.267303\n 0.329827   0.86692    0.49949    0.82654    0.117084\n 0.742469   0.0816309  0.651207   0.744728   0.560274\n\n[:, :, 1, 4] =\n 0.926899  0.181919  0.136476  0.0192942  0.507415\n 0.856553  0.776452  0.251329  0.399186   0.244707\n 0.13779   0.353542  0.298727  0.61942    0.380574\n 0.398094  0.523236  0.955652  0.725909   0.968198\n 0.781416  0.913802  0.385638  0.618892   0.615444\n\n[:, :, 2, 4] =\n 0.441274  0.552474  0.0510431  0.508986  0.707297\n 0.59276   0.946176  0.896165   0.956832  0.535691\n 0.434736  0.881839  0.772944   0.76587   0.413766\n 0.285258  0.625732  0.122251   0.597278  0.600996\n 0.967757  0.340811  0.614623   0.142635  0.762178\n\n[:, :, 3, 4] =\n 0.56943   0.0338317  0.134875  0.920862  0.261111\n 0.903916  0.44462    0.182271  0.267623  0.206787\n 0.67227   0.899312   0.953316  0.330993  0.893844\n 0.593718  0.186217   0.75484   0.616667  0.462817\n 0.738177  0.960552   0.62171   0.606362  0.90013\n\n[:, :, 4, 4] =\n 0.101703  0.696453   0.314418  0.730583   0.442345\n 0.749705  0.826126   0.174892  0.529726   0.825941\n 0.536971  0.0390578  0.23918   0.0439573  0.815083\n 0.488615  0.629514   0.608088  0.820197   0.34232\n 0.564521  0.687967   0.840994  0.113973   0.596943\n\n[:, :, 5, 4] =\n 0.910936  0.610655  0.840207  0.796138  0.396454\n 0.06806   0.669656  0.144871  0.571045  0.1069\n 0.12524   0.134351  0.544937  0.886264  0.625361\n 0.240188  0.125074  0.62089   0.702124  0.615872\n 0.292384  0.444432  0.978588  0.193272  0.891755\n\n[:, :, 1, 5] =\n 0.117832  0.145138  0.197584   0.0145939  0.620968\n 0.780921  0.12246   0.651805   0.931562   0.727617\n 0.658431  0.828158  0.0388632  0.466058   0.0812898\n 0.67989   0.367725  0.239126   0.930746   0.492025\n 0.865247  0.880829  0.170717   0.375079   0.420795\n\n[:, :, 2, 5] =\n 0.923594   0.307277  0.184748   0.88256   0.608443\n 0.223398   0.279049  0.857118   0.174138  0.868597\n 0.666836   0.418464  0.110855   0.244102  0.524766\n 0.0855059  0.303204  0.788062   0.554385  0.207854\n 0.269757   0.321953  0.0130231  0.813843  0.955295\n\n[:, :, 3, 5] =\n 0.398013   0.360308  0.688655  0.833081   0.724687\n 0.0876751  0.365137  0.848983  0.522777   0.683766\n 0.0506242  0.631675  0.997922  0.718057   0.517369\n 0.225509   0.482578  0.849615  0.267237   0.0521938\n 0.877703   0.952805  0.798789  0.0541425  0.696112\n\n[:, :, 4, 5] =\n 0.424334  0.186248  0.0104667  0.833117   0.189565\n 0.665793  0.907467  0.03601    0.611084   0.171205\n 0.908943  0.141397  0.367648   0.193687   0.49294\n 0.990282  0.777345  0.479612   0.0914291  0.0880993\n 0.505579  0.166493  0.234865   0.691908   0.0119435\n\n[:, :, 5, 5] =\n 0.528668  0.53028   0.878724  0.858136   0.464714\n 0.701531  0.925556  0.534857  0.0826346  0.751031\n 0.419242  0.376576  0.215785  0.0719528  0.881457\n 0.836702  0.544293  0.412563  0.917704   0.0014705\n 0.331134  0.667085  0.491241  0.759575   0.921391"
          },
          "metadata": {}
        }
      ],
      "execution_count": 20,
      "metadata": {
        "collapsed": true,
        "jupyter": {
          "source_hidden": false,
          "outputs_hidden": false
        },
        "nteract": {
          "transient": {
            "deleting": false
          }
        },
        "execution": {
          "iopub.status.busy": "2020-10-07T20:52:36.015Z",
          "iopub.execute_input": "2020-10-07T20:52:36.019Z",
          "iopub.status.idle": "2020-10-07T20:52:36.637Z"
        }
      }
    },
    {
      "cell_type": "code",
      "source": [
        "#loops!\n",
        "\n",
        "#=\n",
        "\n",
        "for *var* in *loop iter*\n",
        "    *loop body*\n",
        "end\n",
        "=#\n",
        "\n",
        "\n",
        "for friend in friends\n",
        "  println(\"Yo $friend sup dawg\")\n",
        "end\n",
        "\n",
        "\n",
        "#∈ works as well, uhh how do I type this?\n",
        "\n",
        "#mult assignment on same line, neato\n",
        "m,n = 5,5\n",
        "\n",
        "A = zeros(m,n)\n",
        "\n",
        "for i in 1:m\n",
        "  for j in 1:n\n",
        "    A[i,j] = i + j\n",
        "  end\n",
        "end\n",
        "\n",
        "#A\n",
        "\n",
        "###condensed form\n",
        "\n",
        "B = zeros(m,n)\n",
        "\n",
        "#basically can collapse nested loops, very cool!\n",
        "for i in 1:m, j in 1:n\n",
        "  B[i,j] = i + j\n",
        "end\n",
        "\n",
        "B\n",
        "\n",
        "#\"Julian\" Way would be an array-comprehension\n",
        "#no end statement, no pre-initialize table\n",
        "C = [i + j for i in 1:m, j in 1:n]\n",
        "\n",
        "\n",
        "##growing tables\n",
        "## loop with array comp\n",
        "\n",
        "\n",
        "for n in 1:8\n",
        "    A = [i + j for i in 1:n, j in 1:n]\n",
        "  display(A)\n",
        "end\n",
        "\n"
      ],
      "outputs": [
        {
          "output_type": "display_data",
          "data": {
            "text/plain": "1×1 Array{Int64,2}:\n 2"
          },
          "metadata": {}
        },
        {
          "output_type": "display_data",
          "data": {
            "text/plain": "2×2 Array{Int64,2}:\n 2  3\n 3  4"
          },
          "metadata": {}
        },
        {
          "output_type": "display_data",
          "data": {
            "text/plain": "3×3 Array{Int64,2}:\n 2  3  4\n 3  4  5\n 4  5  6"
          },
          "metadata": {}
        },
        {
          "output_type": "display_data",
          "data": {
            "text/plain": "4×4 Array{Int64,2}:\n 2  3  4  5\n 3  4  5  6\n 4  5  6  7\n 5  6  7  8"
          },
          "metadata": {}
        },
        {
          "output_type": "display_data",
          "data": {
            "text/plain": "5×5 Array{Int64,2}:\n 2  3  4  5   6\n 3  4  5  6   7\n 4  5  6  7   8\n 5  6  7  8   9\n 6  7  8  9  10"
          },
          "metadata": {}
        },
        {
          "output_type": "display_data",
          "data": {
            "text/plain": "6×6 Array{Int64,2}:\n 2  3  4   5   6   7\n 3  4  5   6   7   8\n 4  5  6   7   8   9\n 5  6  7   8   9  10\n 6  7  8   9  10  11\n 7  8  9  10  11  12"
          },
          "metadata": {}
        },
        {
          "output_type": "display_data",
          "data": {
            "text/plain": "7×7 Array{Int64,2}:\n 2  3   4   5   6   7   8\n 3  4   5   6   7   8   9\n 4  5   6   7   8   9  10\n 5  6   7   8   9  10  11\n 6  7   8   9  10  11  12\n 7  8   9  10  11  12  13\n 8  9  10  11  12  13  14"
          },
          "metadata": {}
        },
        {
          "output_type": "display_data",
          "data": {
            "text/plain": "8×8 Array{Int64,2}:\n 2   3   4   5   6   7   8   9\n 3   4   5   6   7   8   9  10\n 4   5   6   7   8   9  10  11\n 5   6   7   8   9  10  11  12\n 6   7   8   9  10  11  12  13\n 7   8   9  10  11  12  13  14\n 8   9  10  11  12  13  14  15\n 9  10  11  12  13  14  15  16"
          },
          "metadata": {}
        },
        {
          "output_type": "stream",
          "name": "stdout",
          "text": [
            "Yo Ed sup dawg\n",
            "Yo Tyler sup dawg\n",
            "Yo Gabe sup dawg\n",
            "Yo Jeff sup dawg\n",
            "Yo Cappa sup dawg\n"
          ]
        }
      ],
      "execution_count": 30,
      "metadata": {
        "collapsed": true,
        "jupyter": {
          "source_hidden": false,
          "outputs_hidden": false
        },
        "nteract": {
          "transient": {
            "deleting": false
          }
        },
        "execution": {
          "iopub.status.busy": "2020-10-07T23:21:06.009Z",
          "iopub.execute_input": "2020-10-07T23:21:06.015Z",
          "iopub.status.idle": "2020-10-07T23:21:06.512Z"
        }
      }
    },
    {
      "cell_type": "code",
      "source": [],
      "outputs": [],
      "execution_count": null,
      "metadata": {
        "collapsed": true,
        "jupyter": {
          "source_hidden": false,
          "outputs_hidden": false
        },
        "nteract": {
          "transient": {
            "deleting": false
          }
        }
      }
    }
  ],
  "metadata": {
    "kernel_info": {
      "name": "python3"
    },
    "language_info": {
      "file_extension": ".jl",
      "name": "julia",
      "mimetype": "application/julia",
      "version": "1.5.2"
    },
    "kernelspec": {
      "argv": [
        "python",
        "-m",
        "ipykernel_launcher",
        "-f",
        "{connection_file}"
      ],
      "display_name": "Python 3",
      "language": "python",
      "name": "python3"
    },
    "nteract": {
      "version": "0.25.1"
    }
  },
  "nbformat": 4,
  "nbformat_minor": 0
}